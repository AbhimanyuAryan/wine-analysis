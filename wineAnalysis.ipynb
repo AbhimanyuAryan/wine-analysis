{
 "cells": [
  {
   "cell_type": "code",
   "execution_count": 1,
   "metadata": {},
   "outputs": [
    {
     "data": {
      "text/plain": [
       "{ [Function] registerFunction: [Function] }"
      ]
     },
     "execution_count": 1,
     "metadata": {},
     "output_type": "execute_result"
    }
   ],
   "source": [
    "Collection = require('dstools').Collection;"
   ]
  },
  {
   "cell_type": "code",
   "execution_count": 2,
   "metadata": {},
   "outputs": [
    {
     "data": {
      "text/html": [
       "Finished loading 129971 rows from data/winemag-data-130k-v2.csv"
      ]
     },
     "metadata": {},
     "output_type": "display_data"
    }
   ],
   "source": [
    "data = Collection().loadCSV('data/winemag-data-130k-v2.csv');"
   ]
  },
  {
   "cell_type": "code",
   "execution_count": 3,
   "metadata": {
    "collapsed": true
   },
   "outputs": [
    {
     "data": {
      "text/html": [
       "<div style=\"overflow:scroll\">\n",
       "<style scoped>\n",
       "strong {\n",
       "\tfont-weight: bold;\n",
       "}\n",
       "\n",
       "em {\n",
       "\tfont-style: italic;\n",
       "}\n",
       "\n",
       "table {\n",
       "\tbackground: #f5f5f5;\n",
       "\tborder-collapse: separate;\n",
       "\tbox-shadow: inset 0 1px 0 #fff;\n",
       "\tfont-size: 12px;\n",
       "\tline-height: 24px;\n",
       "\tmargin: 30px auto;\n",
       "\ttext-align: left;\n",
       "\twidth: 800px;\n",
       "}\n",
       "\n",
       "th {\n",
       "\tbackground:  linear-gradient(#777, #444);\n",
       "\tborder-left: 1px solid #555;\n",
       "\tborder-right: 1px solid #777;\n",
       "\tborder-top: 1px solid #555;\n",
       "\tborder-bottom: 1px solid #333;\n",
       "\tbox-shadow: inset 0 1px 0 #999;\n",
       "\tcolor: #fff;\n",
       "  font-weight: bold;\n",
       "\tpadding: 10px 15px;\n",
       "\tposition: relative;\n",
       "\ttext-shadow: 0 1px 0 #000;\n",
       "}\n",
       "th.header-field{\n",
       "\ttext-align: left;\n",
       "}\n",
       "th:after {\n",
       "\tbackground: linear-gradient(rgba(255,255,255,0), rgba(255,255,255,.08));\n",
       "\tcontent: '';\n",
       "\tdisplay: block;\n",
       "\theight: 25%;\n",
       "\tleft: 0;\n",
       "\tmargin: 1px 0 0 0;\n",
       "\tposition: absolute;\n",
       "\ttop: 25%;\n",
       "\twidth: 100%;\n",
       "}\n",
       "\n",
       "th:first-child {\n",
       "\tborder-left: 1px solid #777;\n",
       "\tbox-shadow: inset 1px 1px 0 #999;\n",
       "}\n",
       "\n",
       "th:last-child {\n",
       "\tbox-shadow: inset -1px 1px 0 #999;\n",
       "}\n",
       "\n",
       "td.table-cell {\n",
       "\tborder-right: 1px solid #fff;\n",
       "\tborder-left: 1px solid #e8e8e8;\n",
       "\tborder-top: 1px solid #fff;\n",
       "\tborder-bottom: 1px solid #e8e8e8;\n",
       "\tpadding: 10px 15px;\n",
       "\tposition: relative;\n",
       "\ttransition: all 300ms;\n",
       "\ttext-align:left;\n",
       "}\n",
       "\n",
       "td.table-cell:first-child {\n",
       "\tbox-shadow: inset 1px 0 0 #fff;\n",
       "}\n",
       "\n",
       "td.table-cell:last-child {\n",
       "\tborder-right: 1px solid #e8e8e8;\n",
       "\tbox-shadow: inset -1px 0 0 #fff;\n",
       "}\n",
       "\n",
       "\n",
       "tr:last-of-type td {\n",
       "\tbox-shadow: inset 0 -1px 0 #fff;\n",
       "}\n",
       "\n",
       "tr:last-of-type td:first-child {\n",
       "\tbox-shadow: inset 1px -1px 0 #fff;\n",
       "}\n",
       "\n",
       "tr:last-of-type td:last-child {\n",
       "\tbox-shadow: inset -1px -1px 0 #fff;\n",
       "}\n",
       "th{\n",
       "\twidth:8em;\n",
       "}\n",
       "</style><table><caption>Table View</caption><thead class=\"theader\"><tr><th class=\"header-field\"></th><th class=\"header-field\">country</th><th class=\"header-field\">description</th><th class=\"header-field\">designation</th><th class=\"header-field\">points</th><th class=\"header-field\">price</th><th class=\"header-field\">province</th><th class=\"header-field\">region_1</th><th class=\"header-field\">region_2</th><th class=\"header-field\">taster_name</th><th class=\"header-field\">taster_twitter_handle</th><th class=\"header-field\">title</th><th class=\"header-field\">variety</th><th class=\"header-field\">winery</th></tr></thead><tbody><tr class=\"table-row\"><td class=\"table-cell\">0</td><td class=\"table-cell\">Italy</td><td class=\"table-cell\">Aromas include tropical fruit, broom, brimstone and dried herb. The palate isn&#x27;t overly expressive, offering unripened apple, citrus and dried sage alongside brisk acidity.</td><td class=\"table-cell\">Vulkà Bianco</td><td class=\"table-cell\">87</td><td class=\"table-cell\"></td><td class=\"table-cell\">Sicily &amp; Sardinia</td><td class=\"table-cell\">Etna</td><td class=\"table-cell\"></td><td class=\"table-cell\">Kerin O’Keefe</td><td class=\"table-cell\">@kerinokeefe</td><td class=\"table-cell\">Nicosia 2013 Vulkà Bianco  (Etna)</td><td class=\"table-cell\">White Blend</td><td class=\"table-cell\">Nicosia</td></tr><tr class=\"table-row\"><td class=\"table-cell\">1</td><td class=\"table-cell\">Portugal</td><td class=\"table-cell\">This is ripe and fruity, a wine that is smooth while still structured. Firm tannins are filled out with juicy red berry fruits and freshened with acidity. It&#x27;s  already drinkable, although it will certainly be better from 2016.</td><td class=\"table-cell\">Avidagos</td><td class=\"table-cell\">87</td><td class=\"table-cell\">15</td><td class=\"table-cell\">Douro</td><td class=\"table-cell\"></td><td class=\"table-cell\"></td><td class=\"table-cell\">Roger Voss</td><td class=\"table-cell\">@vossroger</td><td class=\"table-cell\">Quinta dos Avidagos 2011 Avidagos Red (Douro)</td><td class=\"table-cell\">Portuguese Red</td><td class=\"table-cell\">Quinta dos Avidagos</td></tr><tr class=\"table-row\"><td class=\"table-cell\">2</td><td class=\"table-cell\">US</td><td class=\"table-cell\">Tart and snappy, the flavors of lime flesh and rind dominate. Some green pineapple pokes through, with crisp acidity underscoring the flavors. The wine was all stainless-steel fermented.</td><td class=\"table-cell\"></td><td class=\"table-cell\">87</td><td class=\"table-cell\">14</td><td class=\"table-cell\">Oregon</td><td class=\"table-cell\">Willamette Valley</td><td class=\"table-cell\">Willamette Valley</td><td class=\"table-cell\">Paul Gregutt</td><td class=\"table-cell\">@paulgwine</td><td class=\"table-cell\">Rainstorm 2013 Pinot Gris (Willamette Valley)</td><td class=\"table-cell\">Pinot Gris</td><td class=\"table-cell\">Rainstorm</td></tr><tr class=\"table-row\"><td class=\"table-cell\">3</td><td class=\"table-cell\">US</td><td class=\"table-cell\">Pineapple rind, lemon pith and orange blossom start off the aromas. The palate is a bit more opulent, with notes of honey-drizzled guava and mango giving way to a slightly astringent, semidry finish.</td><td class=\"table-cell\">Reserve Late Harvest</td><td class=\"table-cell\">87</td><td class=\"table-cell\">13</td><td class=\"table-cell\">Michigan</td><td class=\"table-cell\">Lake Michigan Shore</td><td class=\"table-cell\"></td><td class=\"table-cell\">Alexander Peartree</td><td class=\"table-cell\"></td><td class=\"table-cell\">St. Julian 2013 Reserve Late Harvest Riesling (Lake Michigan Shore)</td><td class=\"table-cell\">Riesling</td><td class=\"table-cell\">St. Julian</td></tr><tr class=\"table-row\"><td class=\"table-cell\">4</td><td class=\"table-cell\">US</td><td class=\"table-cell\">Much like the regular bottling from 2012, this comes across as rather rough and tannic, with rustic, earthy, herbal characteristics. Nonetheless, if you think of it as a pleasantly unfussy country wine, it&#x27;s a good companion to a hearty winter stew.</td><td class=\"table-cell\">Vintner&#x27;s Reserve Wild Child Block</td><td class=\"table-cell\">87</td><td class=\"table-cell\">65</td><td class=\"table-cell\">Oregon</td><td class=\"table-cell\">Willamette Valley</td><td class=\"table-cell\">Willamette Valley</td><td class=\"table-cell\">Paul Gregutt</td><td class=\"table-cell\">@paulgwine</td><td class=\"table-cell\">Sweet Cheeks 2012 Vintner&#x27;s Reserve Wild Child Block Pinot Noir (Willamette Valley)</td><td class=\"table-cell\">Pinot Noir</td><td class=\"table-cell\">Sweet Cheeks</td></tr></tbody></div></table>"
      ]
     },
     "execution_count": 3,
     "metadata": {},
     "output_type": "execute_result"
    }
   ],
   "source": [
    "data.head().show();"
   ]
  },
  {
   "cell_type": "code",
   "execution_count": 4,
   "metadata": {},
   "outputs": [
    {
     "data": {
      "text/plain": [
       "',country,description,designation,points,price,province,region_1,region_2,taster_name,taster_twitter_handle,title,variety,winery'"
      ]
     },
     "execution_count": 4,
     "metadata": {},
     "output_type": "execute_result"
    }
   ],
   "source": [
    "data.fields().data().join();"
   ]
  },
  {
   "cell_type": "code",
   "execution_count": 6,
   "metadata": {},
   "outputs": [
    {
     "data": {
      "text/html": [
       "<div style=\"overflow:scroll\">\n",
       "<style scoped>\n",
       "strong {\n",
       "\tfont-weight: bold;\n",
       "}\n",
       "\n",
       "em {\n",
       "\tfont-style: italic;\n",
       "}\n",
       "\n",
       "table {\n",
       "\tbackground: #f5f5f5;\n",
       "\tborder-collapse: separate;\n",
       "\tbox-shadow: inset 0 1px 0 #fff;\n",
       "\tfont-size: 12px;\n",
       "\tline-height: 24px;\n",
       "\tmargin: 30px auto;\n",
       "\ttext-align: left;\n",
       "\twidth: 800px;\n",
       "}\n",
       "\n",
       "th {\n",
       "\tbackground:  linear-gradient(#777, #444);\n",
       "\tborder-left: 1px solid #555;\n",
       "\tborder-right: 1px solid #777;\n",
       "\tborder-top: 1px solid #555;\n",
       "\tborder-bottom: 1px solid #333;\n",
       "\tbox-shadow: inset 0 1px 0 #999;\n",
       "\tcolor: #fff;\n",
       "  font-weight: bold;\n",
       "\tpadding: 10px 15px;\n",
       "\tposition: relative;\n",
       "\ttext-shadow: 0 1px 0 #000;\n",
       "}\n",
       "th.header-field{\n",
       "\ttext-align: left;\n",
       "}\n",
       "th:after {\n",
       "\tbackground: linear-gradient(rgba(255,255,255,0), rgba(255,255,255,.08));\n",
       "\tcontent: '';\n",
       "\tdisplay: block;\n",
       "\theight: 25%;\n",
       "\tleft: 0;\n",
       "\tmargin: 1px 0 0 0;\n",
       "\tposition: absolute;\n",
       "\ttop: 25%;\n",
       "\twidth: 100%;\n",
       "}\n",
       "\n",
       "th:first-child {\n",
       "\tborder-left: 1px solid #777;\n",
       "\tbox-shadow: inset 1px 1px 0 #999;\n",
       "}\n",
       "\n",
       "th:last-child {\n",
       "\tbox-shadow: inset -1px 1px 0 #999;\n",
       "}\n",
       "\n",
       "td.table-cell {\n",
       "\tborder-right: 1px solid #fff;\n",
       "\tborder-left: 1px solid #e8e8e8;\n",
       "\tborder-top: 1px solid #fff;\n",
       "\tborder-bottom: 1px solid #e8e8e8;\n",
       "\tpadding: 10px 15px;\n",
       "\tposition: relative;\n",
       "\ttransition: all 300ms;\n",
       "\ttext-align:left;\n",
       "}\n",
       "\n",
       "td.table-cell:first-child {\n",
       "\tbox-shadow: inset 1px 0 0 #fff;\n",
       "}\n",
       "\n",
       "td.table-cell:last-child {\n",
       "\tborder-right: 1px solid #e8e8e8;\n",
       "\tbox-shadow: inset -1px 0 0 #fff;\n",
       "}\n",
       "\n",
       "\n",
       "tr:last-of-type td {\n",
       "\tbox-shadow: inset 0 -1px 0 #fff;\n",
       "}\n",
       "\n",
       "tr:last-of-type td:first-child {\n",
       "\tbox-shadow: inset 1px -1px 0 #fff;\n",
       "}\n",
       "\n",
       "tr:last-of-type td:last-child {\n",
       "\tbox-shadow: inset -1px -1px 0 #fff;\n",
       "}\n",
       "th{\n",
       "\twidth:8em;\n",
       "}\n",
       "</style><table><caption>Table View</caption><thead class=\"theader\"><tr><th class=\"header-field\">term</th><th class=\"header-field\">count</th></tr></thead><tbody><tr class=\"table-row\"><td class=\"table-cell\">wine</td><td class=\"table-cell\">80166</td></tr><tr class=\"table-row\"><td class=\"table-cell\">flavors</td><td class=\"table-cell\">60322</td></tr><tr class=\"table-row\"><td class=\"table-cell\">fruit</td><td class=\"table-cell\">49671</td></tr><tr class=\"table-row\"><td class=\"table-cell\">palate</td><td class=\"table-cell\">38516</td></tr><tr class=\"table-row\"><td class=\"table-cell\">aromas</td><td class=\"table-cell\">35450</td></tr></tbody></div></table>"
      ]
     },
     "execution_count": 6,
     "metadata": {},
     "output_type": "execute_result"
    }
   ],
   "source": [
    "data\n",
    ".terms({field:'description'})\n",
    ".dropStopwords('term')\n",
    ".sortDesc('count')\n",
    ".head(5)\n",
    ".show();"
   ]
  },
  {
   "cell_type": "code",
   "execution_count": 9,
   "metadata": {},
   "outputs": [
    {
     "data": {
      "text/html": [
       "\n",
       "\t\t<script src=\"https://code.highcharts.com/highcharts.js\"></script>\n",
       "\t\t<script src=\"https://code.highcharts.com/modules/wordcloud.js\"></script>\n",
       "\t\t<div id=\"hc-1535700129229\"></div>\n",
       "\t\t<script>\n",
       "\t\tfunction hc1535700129229(){Highcharts.chart('hc-1535700129229',{\"title\":{\"text\":\"Word Cloud\"},\"series\":[{\"name\":\"count\",\"type\":\"wordcloud\",\"data\":[{\"name\":\"wine\",\"weight\":80166},{\"name\":\"flavors\",\"weight\":60322},{\"name\":\"fruit\",\"weight\":49671},{\"name\":\"palate\",\"weight\":38516},{\"name\":\"aromas\",\"weight\":35450},{\"name\":\"finish\",\"weight\":34971},{\"name\":\"acidity\",\"weight\":34575},{\"name\":\"tannins\",\"weight\":30527},{\"name\":\"cherry\",\"weight\":28917},{\"name\":\"black\",\"weight\":27947},{\"name\":\"ripe\",\"weight\":25317},{\"name\":\"red\",\"weight\":20794},{\"name\":\"Drink\",\"weight\":20410},{\"name\":\"spice\",\"weight\":18937},{\"name\":\"notes\",\"weight\":18580},{\"name\":\"oak\",\"weight\":17291},{\"name\":\"nose\",\"weight\":16949},{\"name\":\"berry\",\"weight\":16786},{\"name\":\"rich\",\"weight\":16240},{\"name\":\"fresh\",\"weight\":15940},{\"name\":\"dry\",\"weight\":15841},{\"name\":\"full\",\"weight\":14846},{\"name\":\"plum\",\"weight\":14642},{\"name\":\"fruits\",\"weight\":13548},{\"name\":\"apple\",\"weight\":13257},{\"name\":\"blend\",\"weight\":13118},{\"name\":\"sweet\",\"weight\":12787},{\"name\":\"white\",\"weight\":12604},{\"name\":\"offers\",\"weight\":12570},{\"name\":\"texture\",\"weight\":12391},{\"name\":\"blackberry\",\"weight\":12356},{\"name\":\"soft\",\"weight\":12207},{\"name\":\"crisp\",\"weight\":11852},{\"name\":\"bodied\",\"weight\":11558},{\"name\":\"citrus\",\"weight\":11442},{\"name\":\"dark\",\"weight\":11128},{\"name\":\"light\",\"weight\":11037},{\"name\":\"vanilla\",\"weight\":10813},{\"name\":\"Cabernet\",\"weight\":10794},{\"name\":\"shows\",\"weight\":10572},{\"name\":\"drink\",\"weight\":9913},{\"name\":\"bright\",\"weight\":9850},{\"name\":\"pepper\",\"weight\":9844},{\"name\":\"green\",\"weight\":9344},{\"name\":\"raspberry\",\"weight\":9280},{\"name\":\"lemon\",\"weight\":9262},{\"name\":\"fruity\",\"weight\":9204},{\"name\":\"juicy\",\"weight\":9131},{\"name\":\"good\",\"weight\":8720},{\"name\":\"firm\",\"weight\":8554}]}]})}\n",
       "\t\tif(window.Highcharts){hc1535700129229();\n",
       "\t\t}else{\n",
       "\t\t\trequire([\n",
       "\t\t\t\t'https://code.highcharts.com/highcharts.js',\n",
       "\t\t\t\t'https://code.highcharts.com/modules/wordcloud.js'\n",
       "\t\t\t], function(highcharts){window.highcharts = highcharts;hc1535700129229();\n",
       "\t\t\t});\n",
       "\t\t}\n",
       "\t\t</script>\n"
      ]
     },
     "execution_count": 9,
     "metadata": {},
     "output_type": "execute_result"
    }
   ],
   "source": [
    "data.terms({field:'description'}).dropStopwords('term')\n",
    ".sortDesc('count').head(50)\n",
    ".wordCloud('term','count')//arguments are label and measure\n",
    ".show();"
   ]
  },
  {
   "cell_type": "code",
   "execution_count": 12,
   "metadata": {},
   "outputs": [
    {
     "data": {
      "text/html": [
       "\n",
       "\t\t<script src=\"https://code.highcharts.com/highcharts.js\"></script>\n",
       "\t\t<script src=\"https://code.highcharts.com/modules/wordcloud.js\"></script>\n",
       "\t\t<div id=\"hc-1535700304183\"></div>\n",
       "\t\t<script>\n",
       "\t\tfunction hc1535700304183(){Highcharts.chart('hc-1535700304183',{\"title\":{\"text\":\"Word Cloud\"},\"series\":[{\"name\":\"count\",\"type\":\"wordcloud\",\"data\":[{\"name\":\"wine\",\"weight\":80166},{\"name\":\"flavors\",\"weight\":60322},{\"name\":\"fruit\",\"weight\":49671},{\"name\":\"palate\",\"weight\":38516},{\"name\":\"aromas\",\"weight\":35450},{\"name\":\"finish\",\"weight\":34971},{\"name\":\"acidity\",\"weight\":34575},{\"name\":\"tannins\",\"weight\":30527},{\"name\":\"cherry\",\"weight\":28917},{\"name\":\"black\",\"weight\":27947},{\"name\":\"ripe\",\"weight\":25317},{\"name\":\"red\",\"weight\":20794},{\"name\":\"Drink\",\"weight\":20410},{\"name\":\"spice\",\"weight\":18937},{\"name\":\"notes\",\"weight\":18580},{\"name\":\"oak\",\"weight\":17291},{\"name\":\"nose\",\"weight\":16949},{\"name\":\"berry\",\"weight\":16786},{\"name\":\"rich\",\"weight\":16240},{\"name\":\"fresh\",\"weight\":15940},{\"name\":\"dry\",\"weight\":15841},{\"name\":\"full\",\"weight\":14846},{\"name\":\"plum\",\"weight\":14642},{\"name\":\"fruits\",\"weight\":13548},{\"name\":\"apple\",\"weight\":13257},{\"name\":\"blend\",\"weight\":13118},{\"name\":\"sweet\",\"weight\":12787},{\"name\":\"white\",\"weight\":12604},{\"name\":\"offers\",\"weight\":12570},{\"name\":\"texture\",\"weight\":12391},{\"name\":\"blackberry\",\"weight\":12356},{\"name\":\"soft\",\"weight\":12207},{\"name\":\"crisp\",\"weight\":11852},{\"name\":\"bodied\",\"weight\":11558},{\"name\":\"citrus\",\"weight\":11442},{\"name\":\"dark\",\"weight\":11128},{\"name\":\"light\",\"weight\":11037},{\"name\":\"vanilla\",\"weight\":10813},{\"name\":\"Cabernet\",\"weight\":10794},{\"name\":\"shows\",\"weight\":10572},{\"name\":\"drink\",\"weight\":9913},{\"name\":\"bright\",\"weight\":9850},{\"name\":\"pepper\",\"weight\":9844},{\"name\":\"green\",\"weight\":9344},{\"name\":\"raspberry\",\"weight\":9280},{\"name\":\"lemon\",\"weight\":9262},{\"name\":\"fruity\",\"weight\":9204},{\"name\":\"juicy\",\"weight\":9131},{\"name\":\"good\",\"weight\":8720},{\"name\":\"firm\",\"weight\":8554}]}]})}\n",
       "\t\tif(window.Highcharts){hc1535700304183();\n",
       "\t\t}else{\n",
       "\t\t\trequire([\n",
       "\t\t\t\t'https://code.highcharts.com/highcharts.js',\n",
       "\t\t\t\t'https://code.highcharts.com/modules/wordcloud.js'\n",
       "\t\t\t], function(highcharts){window.highcharts = highcharts;hc1535700304183();\n",
       "\t\t\t});\n",
       "\t\t}\n",
       "\t\t</script>\n"
      ]
     },
     "execution_count": 12,
     "metadata": {},
     "output_type": "execute_result"
    }
   ],
   "source": [
    "data.terms({field:'description'}).dropStopwords('term')\n",
    ".sortDesc('count').head(50)\n",
    ".wordCloud('term','count')//arguments are label and measure\n",
    ".show();"
   ]
  },
  {
   "cell_type": "code",
   "execution_count": null,
   "metadata": {},
   "outputs": [],
   "source": []
  }
 ],
 "metadata": {
  "kernelspec": {
   "display_name": "Javascript (Node.js)",
   "language": "javascript",
   "name": "javascript"
  },
  "language_info": {
   "file_extension": ".js",
   "mimetype": "application/javascript",
   "name": "javascript",
   "version": "8.11.3"
  }
 },
 "nbformat": 4,
 "nbformat_minor": 2
}
