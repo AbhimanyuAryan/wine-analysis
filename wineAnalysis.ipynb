{
 "cells": [
  {
   "cell_type": "code",
   "execution_count": 1,
   "metadata": {},
   "outputs": [
    {
     "data": {
      "text/plain": [
       "{ [Function] registerFunction: [Function] }"
      ]
     },
     "execution_count": 1,
     "metadata": {},
     "output_type": "execute_result"
    }
   ],
   "source": [
    "Collection = require('dstools').Collection;"
   ]
  },
  {
   "cell_type": "code",
   "execution_count": 2,
   "metadata": {},
   "outputs": [
    {
     "data": {
      "text/html": [
       "Finished loading 129971 rows from data/winemag-data-130k-v2.csv"
      ]
     },
     "metadata": {},
     "output_type": "display_data"
    }
   ],
   "source": [
    "data = Collection().loadCSV('data/winemag-data-130k-v2.csv');"
   ]
  },
  {
   "cell_type": "code",
   "execution_count": 3,
   "metadata": {
    "scrolled": true
   },
   "outputs": [
    {
     "data": {
      "text/html": [
       "<div style=\"overflow:scroll\">\n",
       "<style scoped>\n",
       "strong {\n",
       "\tfont-weight: bold;\n",
       "}\n",
       "\n",
       "em {\n",
       "\tfont-style: italic;\n",
       "}\n",
       "\n",
       "table {\n",
       "\tbackground: #f5f5f5;\n",
       "\tborder-collapse: separate;\n",
       "\tbox-shadow: inset 0 1px 0 #fff;\n",
       "\tfont-size: 12px;\n",
       "\tline-height: 24px;\n",
       "\tmargin: 30px auto;\n",
       "\ttext-align: left;\n",
       "\twidth: 800px;\n",
       "}\n",
       "\n",
       "th {\n",
       "\tbackground:  linear-gradient(#777, #444);\n",
       "\tborder-left: 1px solid #555;\n",
       "\tborder-right: 1px solid #777;\n",
       "\tborder-top: 1px solid #555;\n",
       "\tborder-bottom: 1px solid #333;\n",
       "\tbox-shadow: inset 0 1px 0 #999;\n",
       "\tcolor: #fff;\n",
       "  font-weight: bold;\n",
       "\tpadding: 10px 15px;\n",
       "\tposition: relative;\n",
       "\ttext-shadow: 0 1px 0 #000;\n",
       "}\n",
       "th.header-field{\n",
       "\ttext-align: left;\n",
       "}\n",
       "th:after {\n",
       "\tbackground: linear-gradient(rgba(255,255,255,0), rgba(255,255,255,.08));\n",
       "\tcontent: '';\n",
       "\tdisplay: block;\n",
       "\theight: 25%;\n",
       "\tleft: 0;\n",
       "\tmargin: 1px 0 0 0;\n",
       "\tposition: absolute;\n",
       "\ttop: 25%;\n",
       "\twidth: 100%;\n",
       "}\n",
       "\n",
       "th:first-child {\n",
       "\tborder-left: 1px solid #777;\n",
       "\tbox-shadow: inset 1px 1px 0 #999;\n",
       "}\n",
       "\n",
       "th:last-child {\n",
       "\tbox-shadow: inset -1px 1px 0 #999;\n",
       "}\n",
       "\n",
       "td.table-cell {\n",
       "\tborder-right: 1px solid #fff;\n",
       "\tborder-left: 1px solid #e8e8e8;\n",
       "\tborder-top: 1px solid #fff;\n",
       "\tborder-bottom: 1px solid #e8e8e8;\n",
       "\tpadding: 10px 15px;\n",
       "\tposition: relative;\n",
       "\ttransition: all 300ms;\n",
       "\ttext-align:left;\n",
       "}\n",
       "\n",
       "td.table-cell:first-child {\n",
       "\tbox-shadow: inset 1px 0 0 #fff;\n",
       "}\n",
       "\n",
       "td.table-cell:last-child {\n",
       "\tborder-right: 1px solid #e8e8e8;\n",
       "\tbox-shadow: inset -1px 0 0 #fff;\n",
       "}\n",
       "\n",
       "\n",
       "tr:last-of-type td {\n",
       "\tbox-shadow: inset 0 -1px 0 #fff;\n",
       "}\n",
       "\n",
       "tr:last-of-type td:first-child {\n",
       "\tbox-shadow: inset 1px -1px 0 #fff;\n",
       "}\n",
       "\n",
       "tr:last-of-type td:last-child {\n",
       "\tbox-shadow: inset -1px -1px 0 #fff;\n",
       "}\n",
       "th{\n",
       "\twidth:8em;\n",
       "}\n",
       "</style><table><caption>Table View</caption><thead class=\"theader\"><tr><th class=\"header-field\"></th><th class=\"header-field\">country</th><th class=\"header-field\">description</th><th class=\"header-field\">designation</th><th class=\"header-field\">points</th><th class=\"header-field\">price</th><th class=\"header-field\">province</th><th class=\"header-field\">region_1</th><th class=\"header-field\">region_2</th><th class=\"header-field\">taster_name</th><th class=\"header-field\">taster_twitter_handle</th><th class=\"header-field\">title</th><th class=\"header-field\">variety</th><th class=\"header-field\">winery</th></tr></thead><tbody><tr class=\"table-row\"><td class=\"table-cell\">0</td><td class=\"table-cell\">Italy</td><td class=\"table-cell\">Aromas include tropical fruit, broom, brimstone and dried herb. The palate isn&#x27;t overly expressive, offering unripened apple, citrus and dried sage alongside brisk acidity.</td><td class=\"table-cell\">Vulkà Bianco</td><td class=\"table-cell\">87</td><td class=\"table-cell\"></td><td class=\"table-cell\">Sicily &amp; Sardinia</td><td class=\"table-cell\">Etna</td><td class=\"table-cell\"></td><td class=\"table-cell\">Kerin O’Keefe</td><td class=\"table-cell\">@kerinokeefe</td><td class=\"table-cell\">Nicosia 2013 Vulkà Bianco  (Etna)</td><td class=\"table-cell\">White Blend</td><td class=\"table-cell\">Nicosia</td></tr><tr class=\"table-row\"><td class=\"table-cell\">1</td><td class=\"table-cell\">Portugal</td><td class=\"table-cell\">This is ripe and fruity, a wine that is smooth while still structured. Firm tannins are filled out with juicy red berry fruits and freshened with acidity. It&#x27;s  already drinkable, although it will certainly be better from 2016.</td><td class=\"table-cell\">Avidagos</td><td class=\"table-cell\">87</td><td class=\"table-cell\">15</td><td class=\"table-cell\">Douro</td><td class=\"table-cell\"></td><td class=\"table-cell\"></td><td class=\"table-cell\">Roger Voss</td><td class=\"table-cell\">@vossroger</td><td class=\"table-cell\">Quinta dos Avidagos 2011 Avidagos Red (Douro)</td><td class=\"table-cell\">Portuguese Red</td><td class=\"table-cell\">Quinta dos Avidagos</td></tr><tr class=\"table-row\"><td class=\"table-cell\">2</td><td class=\"table-cell\">US</td><td class=\"table-cell\">Tart and snappy, the flavors of lime flesh and rind dominate. Some green pineapple pokes through, with crisp acidity underscoring the flavors. The wine was all stainless-steel fermented.</td><td class=\"table-cell\"></td><td class=\"table-cell\">87</td><td class=\"table-cell\">14</td><td class=\"table-cell\">Oregon</td><td class=\"table-cell\">Willamette Valley</td><td class=\"table-cell\">Willamette Valley</td><td class=\"table-cell\">Paul Gregutt</td><td class=\"table-cell\">@paulgwine</td><td class=\"table-cell\">Rainstorm 2013 Pinot Gris (Willamette Valley)</td><td class=\"table-cell\">Pinot Gris</td><td class=\"table-cell\">Rainstorm</td></tr><tr class=\"table-row\"><td class=\"table-cell\">3</td><td class=\"table-cell\">US</td><td class=\"table-cell\">Pineapple rind, lemon pith and orange blossom start off the aromas. The palate is a bit more opulent, with notes of honey-drizzled guava and mango giving way to a slightly astringent, semidry finish.</td><td class=\"table-cell\">Reserve Late Harvest</td><td class=\"table-cell\">87</td><td class=\"table-cell\">13</td><td class=\"table-cell\">Michigan</td><td class=\"table-cell\">Lake Michigan Shore</td><td class=\"table-cell\"></td><td class=\"table-cell\">Alexander Peartree</td><td class=\"table-cell\"></td><td class=\"table-cell\">St. Julian 2013 Reserve Late Harvest Riesling (Lake Michigan Shore)</td><td class=\"table-cell\">Riesling</td><td class=\"table-cell\">St. Julian</td></tr><tr class=\"table-row\"><td class=\"table-cell\">4</td><td class=\"table-cell\">US</td><td class=\"table-cell\">Much like the regular bottling from 2012, this comes across as rather rough and tannic, with rustic, earthy, herbal characteristics. Nonetheless, if you think of it as a pleasantly unfussy country wine, it&#x27;s a good companion to a hearty winter stew.</td><td class=\"table-cell\">Vintner&#x27;s Reserve Wild Child Block</td><td class=\"table-cell\">87</td><td class=\"table-cell\">65</td><td class=\"table-cell\">Oregon</td><td class=\"table-cell\">Willamette Valley</td><td class=\"table-cell\">Willamette Valley</td><td class=\"table-cell\">Paul Gregutt</td><td class=\"table-cell\">@paulgwine</td><td class=\"table-cell\">Sweet Cheeks 2012 Vintner&#x27;s Reserve Wild Child Block Pinot Noir (Willamette Valley)</td><td class=\"table-cell\">Pinot Noir</td><td class=\"table-cell\">Sweet Cheeks</td></tr></tbody></div></table>"
      ]
     },
     "execution_count": 3,
     "metadata": {},
     "output_type": "execute_result"
    }
   ],
   "source": [
    "data.head().show();"
   ]
  },
  {
   "cell_type": "code",
   "execution_count": 4,
   "metadata": {},
   "outputs": [
    {
     "data": {
      "text/plain": [
       "',country,description,designation,points,price,province,region_1,region_2,taster_name,taster_twitter_handle,title,variety,winery'"
      ]
     },
     "execution_count": 4,
     "metadata": {},
     "output_type": "execute_result"
    }
   ],
   "source": [
    "data.fields().data().join();"
   ]
  },
  {
   "cell_type": "code",
   "execution_count": 6,
   "metadata": {},
   "outputs": [
    {
     "data": {
      "text/html": [
       "<div style=\"overflow:scroll\">\n",
       "<style scoped>\n",
       "strong {\n",
       "\tfont-weight: bold;\n",
       "}\n",
       "\n",
       "em {\n",
       "\tfont-style: italic;\n",
       "}\n",
       "\n",
       "table {\n",
       "\tbackground: #f5f5f5;\n",
       "\tborder-collapse: separate;\n",
       "\tbox-shadow: inset 0 1px 0 #fff;\n",
       "\tfont-size: 12px;\n",
       "\tline-height: 24px;\n",
       "\tmargin: 30px auto;\n",
       "\ttext-align: left;\n",
       "\twidth: 800px;\n",
       "}\n",
       "\n",
       "th {\n",
       "\tbackground:  linear-gradient(#777, #444);\n",
       "\tborder-left: 1px solid #555;\n",
       "\tborder-right: 1px solid #777;\n",
       "\tborder-top: 1px solid #555;\n",
       "\tborder-bottom: 1px solid #333;\n",
       "\tbox-shadow: inset 0 1px 0 #999;\n",
       "\tcolor: #fff;\n",
       "  font-weight: bold;\n",
       "\tpadding: 10px 15px;\n",
       "\tposition: relative;\n",
       "\ttext-shadow: 0 1px 0 #000;\n",
       "}\n",
       "th.header-field{\n",
       "\ttext-align: left;\n",
       "}\n",
       "th:after {\n",
       "\tbackground: linear-gradient(rgba(255,255,255,0), rgba(255,255,255,.08));\n",
       "\tcontent: '';\n",
       "\tdisplay: block;\n",
       "\theight: 25%;\n",
       "\tleft: 0;\n",
       "\tmargin: 1px 0 0 0;\n",
       "\tposition: absolute;\n",
       "\ttop: 25%;\n",
       "\twidth: 100%;\n",
       "}\n",
       "\n",
       "th:first-child {\n",
       "\tborder-left: 1px solid #777;\n",
       "\tbox-shadow: inset 1px 1px 0 #999;\n",
       "}\n",
       "\n",
       "th:last-child {\n",
       "\tbox-shadow: inset -1px 1px 0 #999;\n",
       "}\n",
       "\n",
       "td.table-cell {\n",
       "\tborder-right: 1px solid #fff;\n",
       "\tborder-left: 1px solid #e8e8e8;\n",
       "\tborder-top: 1px solid #fff;\n",
       "\tborder-bottom: 1px solid #e8e8e8;\n",
       "\tpadding: 10px 15px;\n",
       "\tposition: relative;\n",
       "\ttransition: all 300ms;\n",
       "\ttext-align:left;\n",
       "}\n",
       "\n",
       "td.table-cell:first-child {\n",
       "\tbox-shadow: inset 1px 0 0 #fff;\n",
       "}\n",
       "\n",
       "td.table-cell:last-child {\n",
       "\tborder-right: 1px solid #e8e8e8;\n",
       "\tbox-shadow: inset -1px 0 0 #fff;\n",
       "}\n",
       "\n",
       "\n",
       "tr:last-of-type td {\n",
       "\tbox-shadow: inset 0 -1px 0 #fff;\n",
       "}\n",
       "\n",
       "tr:last-of-type td:first-child {\n",
       "\tbox-shadow: inset 1px -1px 0 #fff;\n",
       "}\n",
       "\n",
       "tr:last-of-type td:last-child {\n",
       "\tbox-shadow: inset -1px -1px 0 #fff;\n",
       "}\n",
       "th{\n",
       "\twidth:8em;\n",
       "}\n",
       "</style><table><caption>Table View</caption><thead class=\"theader\"><tr><th class=\"header-field\">term</th><th class=\"header-field\">count</th></tr></thead><tbody><tr class=\"table-row\"><td class=\"table-cell\">wine</td><td class=\"table-cell\">80166</td></tr><tr class=\"table-row\"><td class=\"table-cell\">flavors</td><td class=\"table-cell\">60322</td></tr><tr class=\"table-row\"><td class=\"table-cell\">fruit</td><td class=\"table-cell\">49671</td></tr><tr class=\"table-row\"><td class=\"table-cell\">palate</td><td class=\"table-cell\">38516</td></tr><tr class=\"table-row\"><td class=\"table-cell\">aromas</td><td class=\"table-cell\">35450</td></tr></tbody></div></table>"
      ]
     },
     "execution_count": 6,
     "metadata": {},
     "output_type": "execute_result"
    }
   ],
   "source": [
    "data\n",
    ".terms({field:'description'})\n",
    ".dropStopwords('term')\n",
    ".sortDesc('count')\n",
    ".head(5)\n",
    ".show();"
   ]
  },
  {
   "cell_type": "code",
   "execution_count": 9,
   "metadata": {},
   "outputs": [
    {
     "data": {
      "text/html": [
       "\n",
       "\t\t<script src=\"https://code.highcharts.com/highcharts.js\"></script>\n",
       "\t\t<script src=\"https://code.highcharts.com/modules/wordcloud.js\"></script>\n",
       "\t\t<div id=\"hc-1535700129229\"></div>\n",
       "\t\t<script>\n",
       "\t\tfunction hc1535700129229(){Highcharts.chart('hc-1535700129229',{\"title\":{\"text\":\"Word Cloud\"},\"series\":[{\"name\":\"count\",\"type\":\"wordcloud\",\"data\":[{\"name\":\"wine\",\"weight\":80166},{\"name\":\"flavors\",\"weight\":60322},{\"name\":\"fruit\",\"weight\":49671},{\"name\":\"palate\",\"weight\":38516},{\"name\":\"aromas\",\"weight\":35450},{\"name\":\"finish\",\"weight\":34971},{\"name\":\"acidity\",\"weight\":34575},{\"name\":\"tannins\",\"weight\":30527},{\"name\":\"cherry\",\"weight\":28917},{\"name\":\"black\",\"weight\":27947},{\"name\":\"ripe\",\"weight\":25317},{\"name\":\"red\",\"weight\":20794},{\"name\":\"Drink\",\"weight\":20410},{\"name\":\"spice\",\"weight\":18937},{\"name\":\"notes\",\"weight\":18580},{\"name\":\"oak\",\"weight\":17291},{\"name\":\"nose\",\"weight\":16949},{\"name\":\"berry\",\"weight\":16786},{\"name\":\"rich\",\"weight\":16240},{\"name\":\"fresh\",\"weight\":15940},{\"name\":\"dry\",\"weight\":15841},{\"name\":\"full\",\"weight\":14846},{\"name\":\"plum\",\"weight\":14642},{\"name\":\"fruits\",\"weight\":13548},{\"name\":\"apple\",\"weight\":13257},{\"name\":\"blend\",\"weight\":13118},{\"name\":\"sweet\",\"weight\":12787},{\"name\":\"white\",\"weight\":12604},{\"name\":\"offers\",\"weight\":12570},{\"name\":\"texture\",\"weight\":12391},{\"name\":\"blackberry\",\"weight\":12356},{\"name\":\"soft\",\"weight\":12207},{\"name\":\"crisp\",\"weight\":11852},{\"name\":\"bodied\",\"weight\":11558},{\"name\":\"citrus\",\"weight\":11442},{\"name\":\"dark\",\"weight\":11128},{\"name\":\"light\",\"weight\":11037},{\"name\":\"vanilla\",\"weight\":10813},{\"name\":\"Cabernet\",\"weight\":10794},{\"name\":\"shows\",\"weight\":10572},{\"name\":\"drink\",\"weight\":9913},{\"name\":\"bright\",\"weight\":9850},{\"name\":\"pepper\",\"weight\":9844},{\"name\":\"green\",\"weight\":9344},{\"name\":\"raspberry\",\"weight\":9280},{\"name\":\"lemon\",\"weight\":9262},{\"name\":\"fruity\",\"weight\":9204},{\"name\":\"juicy\",\"weight\":9131},{\"name\":\"good\",\"weight\":8720},{\"name\":\"firm\",\"weight\":8554}]}]})}\n",
       "\t\tif(window.Highcharts){hc1535700129229();\n",
       "\t\t}else{\n",
       "\t\t\trequire([\n",
       "\t\t\t\t'https://code.highcharts.com/highcharts.js',\n",
       "\t\t\t\t'https://code.highcharts.com/modules/wordcloud.js'\n",
       "\t\t\t], function(highcharts){window.highcharts = highcharts;hc1535700129229();\n",
       "\t\t\t});\n",
       "\t\t}\n",
       "\t\t</script>\n"
      ]
     },
     "execution_count": 9,
     "metadata": {},
     "output_type": "execute_result"
    }
   ],
   "source": [
    "data.terms({field:'description'}).dropStopwords('term')\n",
    ".sortDesc('count').head(50)\n",
    ".wordCloud('term','count')//arguments are label and measure\n",
    ".show();"
   ]
  },
  {
   "cell_type": "code",
   "execution_count": 12,
   "metadata": {},
   "outputs": [
    {
     "data": {
      "text/html": [
       "\n",
       "\t\t<script src=\"https://code.highcharts.com/highcharts.js\"></script>\n",
       "\t\t<script src=\"https://code.highcharts.com/modules/wordcloud.js\"></script>\n",
       "\t\t<div id=\"hc-1535700304183\"></div>\n",
       "\t\t<script>\n",
       "\t\tfunction hc1535700304183(){Highcharts.chart('hc-1535700304183',{\"title\":{\"text\":\"Word Cloud\"},\"series\":[{\"name\":\"count\",\"type\":\"wordcloud\",\"data\":[{\"name\":\"wine\",\"weight\":80166},{\"name\":\"flavors\",\"weight\":60322},{\"name\":\"fruit\",\"weight\":49671},{\"name\":\"palate\",\"weight\":38516},{\"name\":\"aromas\",\"weight\":35450},{\"name\":\"finish\",\"weight\":34971},{\"name\":\"acidity\",\"weight\":34575},{\"name\":\"tannins\",\"weight\":30527},{\"name\":\"cherry\",\"weight\":28917},{\"name\":\"black\",\"weight\":27947},{\"name\":\"ripe\",\"weight\":25317},{\"name\":\"red\",\"weight\":20794},{\"name\":\"Drink\",\"weight\":20410},{\"name\":\"spice\",\"weight\":18937},{\"name\":\"notes\",\"weight\":18580},{\"name\":\"oak\",\"weight\":17291},{\"name\":\"nose\",\"weight\":16949},{\"name\":\"berry\",\"weight\":16786},{\"name\":\"rich\",\"weight\":16240},{\"name\":\"fresh\",\"weight\":15940},{\"name\":\"dry\",\"weight\":15841},{\"name\":\"full\",\"weight\":14846},{\"name\":\"plum\",\"weight\":14642},{\"name\":\"fruits\",\"weight\":13548},{\"name\":\"apple\",\"weight\":13257},{\"name\":\"blend\",\"weight\":13118},{\"name\":\"sweet\",\"weight\":12787},{\"name\":\"white\",\"weight\":12604},{\"name\":\"offers\",\"weight\":12570},{\"name\":\"texture\",\"weight\":12391},{\"name\":\"blackberry\",\"weight\":12356},{\"name\":\"soft\",\"weight\":12207},{\"name\":\"crisp\",\"weight\":11852},{\"name\":\"bodied\",\"weight\":11558},{\"name\":\"citrus\",\"weight\":11442},{\"name\":\"dark\",\"weight\":11128},{\"name\":\"light\",\"weight\":11037},{\"name\":\"vanilla\",\"weight\":10813},{\"name\":\"Cabernet\",\"weight\":10794},{\"name\":\"shows\",\"weight\":10572},{\"name\":\"drink\",\"weight\":9913},{\"name\":\"bright\",\"weight\":9850},{\"name\":\"pepper\",\"weight\":9844},{\"name\":\"green\",\"weight\":9344},{\"name\":\"raspberry\",\"weight\":9280},{\"name\":\"lemon\",\"weight\":9262},{\"name\":\"fruity\",\"weight\":9204},{\"name\":\"juicy\",\"weight\":9131},{\"name\":\"good\",\"weight\":8720},{\"name\":\"firm\",\"weight\":8554}]}]})}\n",
       "\t\tif(window.Highcharts){hc1535700304183();\n",
       "\t\t}else{\n",
       "\t\t\trequire([\n",
       "\t\t\t\t'https://code.highcharts.com/highcharts.js',\n",
       "\t\t\t\t'https://code.highcharts.com/modules/wordcloud.js'\n",
       "\t\t\t], function(highcharts){window.highcharts = highcharts;hc1535700304183();\n",
       "\t\t\t});\n",
       "\t\t}\n",
       "\t\t</script>\n"
      ]
     },
     "execution_count": 12,
     "metadata": {},
     "output_type": "execute_result"
    }
   ],
   "source": [
    "data.terms({field:'description'}).dropStopwords('term')\n",
    ".sortDesc('count').head(50)\n",
    ".wordCloud('term','count')//arguments are label and measure\n",
    ".show();"
   ]
  },
  {
   "cell_type": "code",
   "execution_count": 19,
   "metadata": {},
   "outputs": [
    {
     "data": {
      "text/plain": [
       "',country,description,designation,points,price,province,region_1,region_2,taster_name,taster_twitter_handle,title,variety,winery'"
      ]
     },
     "execution_count": 19,
     "metadata": {},
     "output_type": "execute_result"
    }
   ],
   "source": [
    "data.fields().data().join()"
   ]
  },
  {
   "cell_type": "code",
   "execution_count": 26,
   "metadata": {},
   "outputs": [
    {
     "data": {
      "text/plain": [
       "'flavors, wine, black, tannins, fruit, Cabernet, cherry, finish, oak, aromas, blackberry, palate, cassis, chocolate, currant, plum, ripe, red, notes, berry, dark, rich, dry, soft, sweet, full, years, bodied, spice, tannic'"
      ]
     },
     "execution_count": 26,
     "metadata": {},
     "output_type": "execute_result"
    }
   ],
   "source": [
    "data\n",
    ".terms({field: 'description', groupBy: 'variety'})\n",
    ".dropStopwords('term')\n",
    ".filterEqual('variety', 'Cabernet Sauvignon')\n",
    ".sortDesc('count')\n",
    ".head(30)\n",
    ".column('term')\n",
    ".data().join(', ')"
   ]
  },
  {
   "cell_type": "code",
   "execution_count": 27,
   "metadata": {
    "scrolled": true
   },
   "outputs": [
    {
     "data": {
      "text/html": [
       "<div style=\"overflow:scroll\">\n",
       "<style scoped>\n",
       "strong {\n",
       "\tfont-weight: bold;\n",
       "}\n",
       "\n",
       "em {\n",
       "\tfont-style: italic;\n",
       "}\n",
       "\n",
       "table {\n",
       "\tbackground: #f5f5f5;\n",
       "\tborder-collapse: separate;\n",
       "\tbox-shadow: inset 0 1px 0 #fff;\n",
       "\tfont-size: 12px;\n",
       "\tline-height: 24px;\n",
       "\tmargin: 30px auto;\n",
       "\ttext-align: left;\n",
       "\twidth: 800px;\n",
       "}\n",
       "\n",
       "th {\n",
       "\tbackground:  linear-gradient(#777, #444);\n",
       "\tborder-left: 1px solid #555;\n",
       "\tborder-right: 1px solid #777;\n",
       "\tborder-top: 1px solid #555;\n",
       "\tborder-bottom: 1px solid #333;\n",
       "\tbox-shadow: inset 0 1px 0 #999;\n",
       "\tcolor: #fff;\n",
       "  font-weight: bold;\n",
       "\tpadding: 10px 15px;\n",
       "\tposition: relative;\n",
       "\ttext-shadow: 0 1px 0 #000;\n",
       "}\n",
       "th.header-field{\n",
       "\ttext-align: left;\n",
       "}\n",
       "th:after {\n",
       "\tbackground: linear-gradient(rgba(255,255,255,0), rgba(255,255,255,.08));\n",
       "\tcontent: '';\n",
       "\tdisplay: block;\n",
       "\theight: 25%;\n",
       "\tleft: 0;\n",
       "\tmargin: 1px 0 0 0;\n",
       "\tposition: absolute;\n",
       "\ttop: 25%;\n",
       "\twidth: 100%;\n",
       "}\n",
       "\n",
       "th:first-child {\n",
       "\tborder-left: 1px solid #777;\n",
       "\tbox-shadow: inset 1px 1px 0 #999;\n",
       "}\n",
       "\n",
       "th:last-child {\n",
       "\tbox-shadow: inset -1px 1px 0 #999;\n",
       "}\n",
       "\n",
       "td.table-cell {\n",
       "\tborder-right: 1px solid #fff;\n",
       "\tborder-left: 1px solid #e8e8e8;\n",
       "\tborder-top: 1px solid #fff;\n",
       "\tborder-bottom: 1px solid #e8e8e8;\n",
       "\tpadding: 10px 15px;\n",
       "\tposition: relative;\n",
       "\ttransition: all 300ms;\n",
       "\ttext-align:left;\n",
       "}\n",
       "\n",
       "td.table-cell:first-child {\n",
       "\tbox-shadow: inset 1px 0 0 #fff;\n",
       "}\n",
       "\n",
       "td.table-cell:last-child {\n",
       "\tborder-right: 1px solid #e8e8e8;\n",
       "\tbox-shadow: inset -1px 0 0 #fff;\n",
       "}\n",
       "\n",
       "\n",
       "tr:last-of-type td {\n",
       "\tbox-shadow: inset 0 -1px 0 #fff;\n",
       "}\n",
       "\n",
       "tr:last-of-type td:first-child {\n",
       "\tbox-shadow: inset 1px -1px 0 #fff;\n",
       "}\n",
       "\n",
       "tr:last-of-type td:last-child {\n",
       "\tbox-shadow: inset -1px -1px 0 #fff;\n",
       "}\n",
       "th{\n",
       "\twidth:8em;\n",
       "}\n",
       "</style><table><caption>Table View</caption><thead class=\"theader\"><tr><th class=\"header-field\">term</th><th class=\"header-field\">variety</th><th class=\"header-field\">tfidf</th><th class=\"header-field\">idf</th></tr></thead><tbody><tr class=\"table-row\"><td class=\"table-cell\">Cabernet</td><td class=\"table-cell\">Cabernet Sauvignon</td><td class=\"table-cell\">0.023470643301288948</td><td class=\"table-cell\">3.028431172743317</td></tr><tr class=\"table-row\"><td class=\"table-cell\">black</td><td class=\"table-cell\">Cabernet Sauvignon</td><td class=\"table-cell\">0.01673902880537438</td><td class=\"table-cell\">1.8877073987250803</td></tr><tr class=\"table-row\"><td class=\"table-cell\">tannins</td><td class=\"table-cell\">Cabernet Sauvignon</td><td class=\"table-cell\">0.01625936025495075</td><td class=\"table-cell\">1.8407188892891613</td></tr><tr class=\"table-row\"><td class=\"table-cell\">flavors</td><td class=\"table-cell\">Cabernet Sauvignon</td><td class=\"table-cell\">0.01617454792127812</td><td class=\"table-cell\">1.2224365876933898</td></tr><tr class=\"table-row\"><td class=\"table-cell\">cherry</td><td class=\"table-cell\">Cabernet Sauvignon</td><td class=\"table-cell\">0.01425224648147553</td><td class=\"table-cell\">1.9226759965628268</td></tr><tr class=\"table-row\"><td class=\"table-cell\">wine</td><td class=\"table-cell\">Cabernet Sauvignon</td><td class=\"table-cell\">0.013910232165308041</td><td class=\"table-cell\">1.1475717087292159</td></tr><tr class=\"table-row\"><td class=\"table-cell\">blackberry</td><td class=\"table-cell\">Cabernet Sauvignon</td><td class=\"table-cell\">0.012841155662573975</td><td class=\"table-cell\">2.233154497106992</td></tr><tr class=\"table-row\"><td class=\"table-cell\">oak</td><td class=\"table-cell\">Cabernet Sauvignon</td><td class=\"table-cell\">0.012544148123399875</td><td class=\"table-cell\">2.000349034881045</td></tr><tr class=\"table-row\"><td class=\"table-cell\">fruit</td><td class=\"table-cell\">Cabernet Sauvignon</td><td class=\"table-cell\">0.011629821334256633</td><td class=\"table-cell\">1.3464225674743808</td></tr><tr class=\"table-row\"><td class=\"table-cell\">cassis</td><td class=\"table-cell\">Cabernet Sauvignon</td><td class=\"table-cell\">0.010832196092195686</td><td class=\"table-cell\">2.670681537674819</td></tr><tr class=\"table-row\"><td class=\"table-cell\">Cab</td><td class=\"table-cell\">Cabernet Sauvignon</td><td class=\"table-cell\">0.009619359720948283</td><td class=\"table-cell\">3.754368176126253</td></tr><tr class=\"table-row\"><td class=\"table-cell\">finish</td><td class=\"table-cell\">Cabernet Sauvignon</td><td class=\"table-cell\">0.009025526437284874</td><td class=\"table-cell\">1.3424305462048436</td></tr><tr class=\"table-row\"><td class=\"table-cell\">chocolate</td><td class=\"table-cell\">Cabernet Sauvignon</td><td class=\"table-cell\">0.008491529689971574</td><td class=\"table-cell\">2.262713299348536</td></tr><tr class=\"table-row\"><td class=\"table-cell\">currant</td><td class=\"table-cell\">Cabernet Sauvignon</td><td class=\"table-cell\">0.008485173447966824</td><td class=\"table-cell\">2.4135361890831195</td></tr><tr class=\"table-row\"><td class=\"table-cell\">aromas</td><td class=\"table-cell\">Cabernet Sauvignon</td><td class=\"table-cell\">0.007622139112194275</td><td class=\"table-cell\">1.3188074004414077</td></tr><tr class=\"table-row\"><td class=\"table-cell\">palate</td><td class=\"table-cell\">Cabernet Sauvignon</td><td class=\"table-cell\">0.0071186788518075965</td><td class=\"table-cell\">1.3424305462048436</td></tr><tr class=\"table-row\"><td class=\"table-cell\">berry</td><td class=\"table-cell\">Cabernet Sauvignon</td><td class=\"table-cell\">0.006617902904993277</td><td class=\"table-cell\">2.0276411771690523</td></tr><tr class=\"table-row\"><td class=\"table-cell\">blackberries</td><td class=\"table-cell\">Cabernet Sauvignon</td><td class=\"table-cell\">0.006613765021584196</td><td class=\"table-cell\">3.3563380465056065</td></tr><tr class=\"table-row\"><td class=\"table-cell\">cedar</td><td class=\"table-cell\">Cabernet Sauvignon</td><td class=\"table-cell\">0.006602883762558903</td><td class=\"table-cell\">2.807440474790208</td></tr><tr class=\"table-row\"><td class=\"table-cell\">plum</td><td class=\"table-cell\">Cabernet Sauvignon</td><td class=\"table-cell\">0.006600568344736167</td><td class=\"table-cell\">1.8946039777841406</td></tr><tr class=\"table-row\"><td class=\"table-cell\">dark</td><td class=\"table-cell\">Cabernet Sauvignon</td><td class=\"table-cell\">0.00655780020158562</td><td class=\"table-cell\">2.0971988608709626</td></tr><tr class=\"table-row\"><td class=\"table-cell\">tannic</td><td class=\"table-cell\">Cabernet Sauvignon</td><td class=\"table-cell\">0.006406608558769547</td><td class=\"table-cell\">2.4490428775400295</td></tr><tr class=\"table-row\"><td class=\"table-cell\">years</td><td class=\"table-cell\">Cabernet Sauvignon</td><td class=\"table-cell\">0.006139103801320355</td><td class=\"table-cell\">2.2380206867581647</td></tr><tr class=\"table-row\"><td class=\"table-cell\">red</td><td class=\"table-cell\">Cabernet Sauvignon</td><td class=\"table-cell\">0.005843920427996689</td><td class=\"table-cell\">1.7409477355442111</td></tr><tr class=\"table-row\"><td class=\"table-cell\">dry</td><td class=\"table-cell\">Cabernet Sauvignon</td><td class=\"table-cell\">0.005600239952081727</td><td class=\"table-cell\">1.8472978603872037</td></tr><tr class=\"table-row\"><td class=\"table-cell\">rich</td><td class=\"table-cell\">Cabernet Sauvignon</td><td class=\"table-cell\">0.005518025642951263</td><td class=\"table-cell\">1.7927096701028007</td></tr><tr class=\"table-row\"><td class=\"table-cell\">ripe</td><td class=\"table-cell\">Cabernet Sauvignon</td><td class=\"table-cell\">0.005348758777048941</td><td class=\"table-cell\">1.5571435987900335</td></tr><tr class=\"table-row\"><td class=\"table-cell\">notes</td><td class=\"table-cell\">Cabernet Sauvignon</td><td class=\"table-cell\">0.005302202715837986</td><td class=\"table-cell\">1.5923231059112068</td></tr><tr class=\"table-row\"><td class=\"table-cell\">herbal</td><td class=\"table-cell\">Cabernet Sauvignon</td><td class=\"table-cell\">0.005094196750670833</td><td class=\"table-cell\">2.242910672052356</td></tr><tr class=\"table-row\"><td class=\"table-cell\">sweet</td><td class=\"table-cell\">Cabernet Sauvignon</td><td class=\"table-cell\">0.005044497224929151</td><td class=\"table-cell\">1.7772054835668354</td></tr></tbody></div></table>"
      ]
     },
     "execution_count": 27,
     "metadata": {},
     "output_type": "execute_result"
    }
   ],
   "source": [
    "data\n",
    ".terms({field:'description',groupBy:'variety',calc:'tfidf,idf'}) //calculate tfidf and idf\n",
    ".dropStopwords('term')\n",
    ".filterEqual('variety','Cabernet Sauvignon')\n",
    ".sortDesc('tfidf') //sort by tfidf\n",
    ".head(30)//top 30 terms\n",
    ".show()"
   ]
  },
  {
   "cell_type": "code",
   "execution_count": 30,
   "metadata": {},
   "outputs": [
    {
     "data": {
      "text/html": [
       "\n",
       "\t\t<script src=\"https://code.highcharts.com/highcharts.js\"></script>\n",
       "\t\t<script src=\"https://code.highcharts.com/modules/wordcloud.js\"></script>\n",
       "\t\t<div id=\"hc-1535713732834\"></div>\n",
       "\t\t<script>\n",
       "\t\tfunction hc1535713732834(){Highcharts.chart('hc-1535713732834',{\"title\":{\"text\":\"Word Cloud for Cabernet Sauvignon\"},\"series\":[{\"name\":\"tfidf\",\"type\":\"wordcloud\",\"data\":[{\"name\":\"Cabernet\",\"weight\":0.023470643301288948},{\"name\":\"blackberry\",\"weight\":0.012841155662573975},{\"name\":\"oak\",\"weight\":0.012544148123399875},{\"name\":\"cassis\",\"weight\":0.010832196092195686},{\"name\":\"Cab\",\"weight\":0.009619359720948283},{\"name\":\"chocolate\",\"weight\":0.008491529689971574},{\"name\":\"currant\",\"weight\":0.008485173447966824},{\"name\":\"berry\",\"weight\":0.006617902904993277},{\"name\":\"blackberries\",\"weight\":0.006613765021584196},{\"name\":\"cedar\",\"weight\":0.006602883762558903},{\"name\":\"dark\",\"weight\":0.00655780020158562},{\"name\":\"tannic\",\"weight\":0.006406608558769547},{\"name\":\"years\",\"weight\":0.006139103801320355},{\"name\":\"herbal\",\"weight\":0.005094196750670833},{\"name\":\"tobacco\",\"weight\":0.004826301214543623},{\"name\":\"currants\",\"weight\":0.004622308981314604},{\"name\":\"Sauvignon\",\"weight\":0.0045965406852673755},{\"name\":\"herb\",\"weight\":0.004422018674368123},{\"name\":\"100\",\"weight\":0.004181150539625937},{\"name\":\"cherries\",\"weight\":0.004029482817832784},{\"name\":\"Napa\",\"weight\":0.004001947364821995},{\"name\":\"firm\",\"weight\":0.0038742439672784334},{\"name\":\"time\",\"weight\":0.0036644836713181036},{\"name\":\"tannin\",\"weight\":0.003615141746087712},{\"name\":\"Merlot\",\"weight\":0.0035512117230393193},{\"name\":\"structure\",\"weight\":0.0034865602752734816},{\"name\":\"pepper\",\"weight\":0.003486213837328908},{\"name\":\"licorice\",\"weight\":0.003447449962161059},{\"name\":\"bit\",\"weight\":0.0034429960234180737},{\"name\":\"cellar\",\"weight\":0.0034254809577583443},{\"name\":\"Verdot\",\"weight\":0.0033956177836285775},{\"name\":\"herbs\",\"weight\":0.0033757891191223397},{\"name\":\"smoky\",\"weight\":0.0033723439884291635},{\"name\":\"mocha\",\"weight\":0.003198701869656292},{\"name\":\"coffee\",\"weight\":0.0031779220560284676},{\"name\":\"varietal\",\"weight\":0.0031260728258357584},{\"name\":\"vineyard\",\"weight\":0.0030802996990936444},{\"name\":\"Petit\",\"weight\":0.003069980567242743},{\"name\":\"raspberry\",\"weight\":0.0029809825645261013},{\"name\":\"fine\",\"weight\":0.002944709916235932},{\"name\":\"age\",\"weight\":0.002856071442134146},{\"name\":\"leather\",\"weight\":0.0027893004239303116},{\"name\":\"barrel\",\"weight\":0.002751215048014738},{\"name\":\"complex\",\"weight\":0.0027027598897701173},{\"name\":\"Valley\",\"weight\":0.002689151070230208},{\"name\":\"hard\",\"weight\":0.0026890592250280745},{\"name\":\"clove\",\"weight\":0.0026512350840431787},{\"name\":\"long\",\"weight\":0.0024825263876879972},{\"name\":\"blueberry\",\"weight\":0.0024596854233384126},{\"name\":\"high\",\"weight\":0.0024263584861315686}]}]})}\n",
       "\t\tif(window.Highcharts){hc1535713732834();\n",
       "\t\t}else{\n",
       "\t\t\trequire([\n",
       "\t\t\t\t'https://code.highcharts.com/highcharts.js',\n",
       "\t\t\t\t'https://code.highcharts.com/modules/wordcloud.js'\n",
       "\t\t\t], function(highcharts){window.highcharts = highcharts;hc1535713732834();\n",
       "\t\t\t});\n",
       "\t\t}\n",
       "\t\t</script>\n"
      ]
     },
     "execution_count": 30,
     "metadata": {},
     "output_type": "execute_result"
    }
   ],
   "source": [
    "data\n",
    ".terms({field:'description',groupBy:'variety',calc:'tfidf,idf'})\n",
    ".dropStopwords('term')\n",
    ".filterEqual('variety','Cabernet Sauvignon')\n",
    ".filter((term)=>term.idf>2)\n",
    ".sortDesc('tfidf')\n",
    ".head(50)\n",
    ".wordCloud('term','tfidf',{title:'Word Cloud for Cabernet Sauvignon'})\n",
    ".show()"
   ]
  },
  {
   "cell_type": "code",
   "execution_count": 31,
   "metadata": {},
   "outputs": [
    {
     "data": {
      "text/html": [
       "\n",
       "\t\t<script src=\"https://code.highcharts.com/highcharts.js\"></script>\n",
       "\t\t<script src=\"https://code.highcharts.com/modules/wordcloud.js\"></script>\n",
       "\t\t<div id=\"hc-1535713771409\"></div>\n",
       "\t\t<script>\n",
       "\t\tfunction hc1535713771409(){Highcharts.chart('hc-1535713771409',{\"title\":{\"text\":\"Word Cloud for Cabernet Sauvignon\"},\"series\":[{\"name\":\"tfidf\",\"type\":\"wordcloud\",\"data\":[{\"name\":\"Chardonnay\",\"weight\":0.022905791769069022},{\"name\":\"oak\",\"weight\":0.012003130078117175},{\"name\":\"pear\",\"weight\":0.010256101866891501},{\"name\":\"lemon\",\"weight\":0.009604569938984195},{\"name\":\"pineapple\",\"weight\":0.008517599282339663},{\"name\":\"toast\",\"weight\":0.00837782934696372},{\"name\":\"peach\",\"weight\":0.007378889362792443},{\"name\":\"buttered\",\"weight\":0.0073550142840861825},{\"name\":\"tropical\",\"weight\":0.0067822796196530845},{\"name\":\"creamy\",\"weight\":0.005941112307414816},{\"name\":\"lime\",\"weight\":0.005828588741358511},{\"name\":\"yellow\",\"weight\":0.005244323868459052},{\"name\":\"minerality\",\"weight\":0.005041459026539618},{\"name\":\"Chard\",\"weight\":0.004731307564623384},{\"name\":\"butter\",\"weight\":0.004484550243507485},{\"name\":\"wood\",\"weight\":0.004230151731757115},{\"name\":\"mineral\",\"weight\":0.0039639800675850415},{\"name\":\"orange\",\"weight\":0.003940814350684523},{\"name\":\"style\",\"weight\":0.003881747986779362},{\"name\":\"melon\",\"weight\":0.003871863793906245},{\"name\":\"vineyard\",\"weight\":0.0038488831693751988},{\"name\":\"apples\",\"weight\":0.0036553432463584737},{\"name\":\"oaky\",\"weight\":0.0034814356367654713},{\"name\":\"apricot\",\"weight\":0.0034789476396525033},{\"name\":\"caramel\",\"weight\":0.003475814697648298},{\"name\":\"richness\",\"weight\":0.0034158065881094725},{\"name\":\"honey\",\"weight\":0.003369863481730981},{\"name\":\"bottling\",\"weight\":0.003150544203740515},{\"name\":\"medium\",\"weight\":0.0030878266697091307},{\"name\":\"clean\",\"weight\":0.0030087103683968694},{\"name\":\"barrel\",\"weight\":0.002980726752654302},{\"name\":\"toasty\",\"weight\":0.0029664514390582795},{\"name\":\"buttery\",\"weight\":0.002955262732617146},{\"name\":\"pineapples\",\"weight\":0.002923126721617512},{\"name\":\"cream\",\"weight\":0.0028081568635069903},{\"name\":\"aging\",\"weight\":0.0028073128992977107},{\"name\":\"tight\",\"weight\":0.0027919676711296456},{\"name\":\"toasted\",\"weight\":0.002652433569973896},{\"name\":\"mango\",\"weight\":0.002650884275744682},{\"name\":\"flavor\",\"weight\":0.0026464280626574523},{\"name\":\"balance\",\"weight\":0.002613270193213838},{\"name\":\"years\",\"weight\":0.002612456720183332},{\"name\":\"butterscotch\",\"weight\":0.0025263917551614137},{\"name\":\"Chablis\",\"weight\":0.0024954523109955496},{\"name\":\"pears\",\"weight\":0.002495106248408623},{\"name\":\"Chardonnays\",\"weight\":0.002436472100264635},{\"name\":\"ready\",\"weight\":0.0024180997401915924},{\"name\":\"age\",\"weight\":0.002412821266849586},{\"name\":\"Meyer\",\"weight\":0.0023923848958007795},{\"name\":\"rounded\",\"weight\":0.0023890120690577563}]}]})}\n",
       "\t\tif(window.Highcharts){hc1535713771409();\n",
       "\t\t}else{\n",
       "\t\t\trequire([\n",
       "\t\t\t\t'https://code.highcharts.com/highcharts.js',\n",
       "\t\t\t\t'https://code.highcharts.com/modules/wordcloud.js'\n",
       "\t\t\t], function(highcharts){window.highcharts = highcharts;hc1535713771409();\n",
       "\t\t\t});\n",
       "\t\t}\n",
       "\t\t</script>\n"
      ]
     },
     "execution_count": 31,
     "metadata": {},
     "output_type": "execute_result"
    }
   ],
   "source": [
    "data\n",
    ".terms({field:'description',groupBy:'variety',calc:'tfidf,idf'})\n",
    ".dropStopwords('term')\n",
    ".filterEqual('variety','Chardonnay')\n",
    ".filter((term)=>term.idf>2)\n",
    ".sortDesc('tfidf')\n",
    ".head(50)\n",
    ".wordCloud('term','tfidf',{title:'Word Cloud for Cabernet Sauvignon'})\n",
    ".show()"
   ]
  },
  {
   "cell_type": "code",
   "execution_count": null,
   "metadata": {},
   "outputs": [],
   "source": []
  }
 ],
 "metadata": {
  "kernelspec": {
   "display_name": "Javascript (Node.js)",
   "language": "javascript",
   "name": "javascript"
  },
  "language_info": {
   "file_extension": ".js",
   "mimetype": "application/javascript",
   "name": "javascript",
   "version": "8.11.3"
  }
 },
 "nbformat": 4,
 "nbformat_minor": 2
}
